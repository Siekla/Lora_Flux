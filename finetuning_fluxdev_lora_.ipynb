{
 "cells": [
  {
   "cell_type": "markdown",
   "id": "a60a4a9f-f783-48f1-8478-0f3a029f52d9",
   "metadata": {},
   "source": [
    "source:\n",
    "\n",
    "https://colab.research.google.com/github/ostris/ai-toolkit/blob/main/notebooks/FLUX_1_dev_LoRA_Training.ipynb"
   ]
  },
  {
   "cell_type": "code",
   "execution_count": 1,
   "id": "60c7f82c-288f-4271-bcff-9e6cbe52cb2a",
   "metadata": {},
   "outputs": [
    {
     "name": "stdout",
     "output_type": "stream",
     "text": [
      "fatal: destination path 'ai-toolkit' already exists and is not an empty directory.\n",
      "\n",
      "\n",
      "\u001b[38;5;57m\u001b[1m⚡️ Tip\u001b[0m\tConnect GitHub to Studios: \u001b[4mhttps://lightning.ai/michalreal/home?settings=integrations\u001b[0m\n",
      "\n"
     ]
    }
   ],
   "source": [
    "!git clone https://github.com/ostris/ai-toolkit"
   ]
  },
  {
   "cell_type": "code",
   "execution_count": 2,
   "id": "6b388e90-5744-425e-a0d0-a2c4a7f3507c",
   "metadata": {},
   "outputs": [],
   "source": [
    "!mkdir -p ./content/dataset"
   ]
  },
  {
   "cell_type": "code",
   "execution_count": 3,
   "id": "f57a6503",
   "metadata": {},
   "outputs": [
    {
     "name": "stdout",
     "output_type": "stream",
     "text": [
      "Collecting git+https://github.com/huggingface/diffusers.git (from -r requirements.txt (line 4))\n",
      "  Cloning https://github.com/huggingface/diffusers.git to /tmp/pip-req-build-dews3yrm\n",
      "  Running command git clone --filter=blob:none --quiet https://github.com/huggingface/diffusers.git /tmp/pip-req-build-dews3yrm\n",
      "\n",
      "  Resolved https://github.com/huggingface/diffusers.git to commit 0e50401e34242dbd4b94a8a3cf0ee24afc25ea65\n",
      "  Installing build dependencies ... \u001b[?25ldone\n",
      "\u001b[?25h  Getting requirements to build wheel ... \u001b[?25ldone\n",
      "\u001b[?25h  Preparing metadata (pyproject.toml) ... \u001b[?25ldone\n",
      "\u001b[?25hRequirement already satisfied: torch in /system/conda/miniconda3/envs/cloudspace/lib/python3.10/site-packages (from -r requirements.txt (line 1)) (2.5.1)\n",
      "Requirement already satisfied: torchvision in /system/conda/miniconda3/envs/cloudspace/lib/python3.10/site-packages (from -r requirements.txt (line 2)) (0.20.1)\n",
      "Requirement already satisfied: safetensors in /system/conda/miniconda3/envs/cloudspace/lib/python3.10/site-packages (from -r requirements.txt (line 3)) (0.4.5)\n",
      "Requirement already satisfied: transformers in /system/conda/miniconda3/envs/cloudspace/lib/python3.10/site-packages (from -r requirements.txt (line 5)) (4.47.0)\n",
      "Requirement already satisfied: lycoris-lora==1.8.3 in /system/conda/miniconda3/envs/cloudspace/lib/python3.10/site-packages (from -r requirements.txt (line 6)) (1.8.3)\n",
      "Requirement already satisfied: flatten_json in /system/conda/miniconda3/envs/cloudspace/lib/python3.10/site-packages (from -r requirements.txt (line 7)) (0.1.14)\n",
      "Requirement already satisfied: pyyaml in /system/conda/miniconda3/envs/cloudspace/lib/python3.10/site-packages (from -r requirements.txt (line 8)) (6.0.2)\n",
      "Requirement already satisfied: oyaml in /system/conda/miniconda3/envs/cloudspace/lib/python3.10/site-packages (from -r requirements.txt (line 9)) (1.0)\n",
      "Requirement already satisfied: tensorboard in /system/conda/miniconda3/envs/cloudspace/lib/python3.10/site-packages (from -r requirements.txt (line 10)) (2.15.1)\n",
      "Requirement already satisfied: kornia in /system/conda/miniconda3/envs/cloudspace/lib/python3.10/site-packages (from -r requirements.txt (line 11)) (0.7.4)\n",
      "Requirement already satisfied: invisible-watermark in /system/conda/miniconda3/envs/cloudspace/lib/python3.10/site-packages (from -r requirements.txt (line 12)) (0.2.0)\n",
      "Requirement already satisfied: einops in /system/conda/miniconda3/envs/cloudspace/lib/python3.10/site-packages (from -r requirements.txt (line 13)) (0.8.0)\n",
      "Requirement already satisfied: accelerate in /system/conda/miniconda3/envs/cloudspace/lib/python3.10/site-packages (from -r requirements.txt (line 14)) (1.2.0)\n",
      "Requirement already satisfied: toml in /system/conda/miniconda3/envs/cloudspace/lib/python3.10/site-packages (from -r requirements.txt (line 15)) (0.10.2)\n",
      "Requirement already satisfied: albumentations==1.4.15 in /system/conda/miniconda3/envs/cloudspace/lib/python3.10/site-packages (from -r requirements.txt (line 16)) (1.4.15)\n",
      "Requirement already satisfied: albucore==0.0.16 in /system/conda/miniconda3/envs/cloudspace/lib/python3.10/site-packages (from -r requirements.txt (line 17)) (0.0.16)\n",
      "Requirement already satisfied: pydantic in /system/conda/miniconda3/envs/cloudspace/lib/python3.10/site-packages (from -r requirements.txt (line 18)) (2.10.2)\n",
      "Requirement already satisfied: omegaconf in /system/conda/miniconda3/envs/cloudspace/lib/python3.10/site-packages (from -r requirements.txt (line 19)) (2.3.0)\n",
      "Requirement already satisfied: k-diffusion in /system/conda/miniconda3/envs/cloudspace/lib/python3.10/site-packages (from -r requirements.txt (line 20)) (0.1.1.post1)\n",
      "Requirement already satisfied: open_clip_torch in /system/conda/miniconda3/envs/cloudspace/lib/python3.10/site-packages (from -r requirements.txt (line 21)) (2.29.0)\n",
      "Requirement already satisfied: timm in /system/conda/miniconda3/envs/cloudspace/lib/python3.10/site-packages (from -r requirements.txt (line 22)) (1.0.12)\n",
      "Requirement already satisfied: prodigyopt in /system/conda/miniconda3/envs/cloudspace/lib/python3.10/site-packages (from -r requirements.txt (line 23)) (1.0)\n",
      "Requirement already satisfied: controlnet_aux==0.0.7 in /system/conda/miniconda3/envs/cloudspace/lib/python3.10/site-packages (from -r requirements.txt (line 24)) (0.0.7)\n",
      "Requirement already satisfied: python-dotenv in /system/conda/miniconda3/envs/cloudspace/lib/python3.10/site-packages (from -r requirements.txt (line 25)) (1.0.1)\n",
      "Requirement already satisfied: bitsandbytes in /system/conda/miniconda3/envs/cloudspace/lib/python3.10/site-packages (from -r requirements.txt (line 26)) (0.45.0)\n",
      "Requirement already satisfied: hf_transfer in /system/conda/miniconda3/envs/cloudspace/lib/python3.10/site-packages (from -r requirements.txt (line 27)) (0.1.8)\n",
      "Requirement already satisfied: lpips in /system/conda/miniconda3/envs/cloudspace/lib/python3.10/site-packages (from -r requirements.txt (line 28)) (0.1.4)\n",
      "Requirement already satisfied: pytorch_fid in /system/conda/miniconda3/envs/cloudspace/lib/python3.10/site-packages (from -r requirements.txt (line 29)) (0.3.0)\n",
      "Requirement already satisfied: optimum-quanto==0.2.4 in /system/conda/miniconda3/envs/cloudspace/lib/python3.10/site-packages (from -r requirements.txt (line 30)) (0.2.4)\n",
      "Requirement already satisfied: sentencepiece in /system/conda/miniconda3/envs/cloudspace/lib/python3.10/site-packages (from -r requirements.txt (line 31)) (0.2.0)\n",
      "Requirement already satisfied: huggingface_hub in /system/conda/miniconda3/envs/cloudspace/lib/python3.10/site-packages (from -r requirements.txt (line 32)) (0.26.5)\n",
      "Requirement already satisfied: peft in /system/conda/miniconda3/envs/cloudspace/lib/python3.10/site-packages (from -r requirements.txt (line 33)) (0.14.0)\n",
      "Requirement already satisfied: gradio in /system/conda/miniconda3/envs/cloudspace/lib/python3.10/site-packages (from -r requirements.txt (line 34)) (5.8.0)\n",
      "Requirement already satisfied: python-slugify in /system/conda/miniconda3/envs/cloudspace/lib/python3.10/site-packages (from -r requirements.txt (line 35)) (8.0.4)\n",
      "Requirement already satisfied: numpy>=1.24.4 in /system/conda/miniconda3/envs/cloudspace/lib/python3.10/site-packages (from albumentations==1.4.15->-r requirements.txt (line 16)) (1.26.4)\n",
      "Requirement already satisfied: scipy>=1.10.0 in /system/conda/miniconda3/envs/cloudspace/lib/python3.10/site-packages (from albumentations==1.4.15->-r requirements.txt (line 16)) (1.11.4)\n",
      "Requirement already satisfied: scikit-image>=0.21.0 in /system/conda/miniconda3/envs/cloudspace/lib/python3.10/site-packages (from albumentations==1.4.15->-r requirements.txt (line 16)) (0.24.0)\n",
      "Requirement already satisfied: eval-type-backport in /system/conda/miniconda3/envs/cloudspace/lib/python3.10/site-packages (from albumentations==1.4.15->-r requirements.txt (line 16)) (0.2.0)\n",
      "Requirement already satisfied: opencv-python-headless>=4.9.0.80 in /system/conda/miniconda3/envs/cloudspace/lib/python3.10/site-packages (from albumentations==1.4.15->-r requirements.txt (line 16)) (4.10.0.84)\n",
      "Requirement already satisfied: importlib-metadata in /system/conda/miniconda3/envs/cloudspace/lib/python3.10/site-packages (from controlnet_aux==0.0.7->-r requirements.txt (line 24)) (8.5.0)\n",
      "Requirement already satisfied: opencv-python in /system/conda/miniconda3/envs/cloudspace/lib/python3.10/site-packages (from controlnet_aux==0.0.7->-r requirements.txt (line 24)) (4.10.0.84)\n",
      "Requirement already satisfied: filelock in /system/conda/miniconda3/envs/cloudspace/lib/python3.10/site-packages (from controlnet_aux==0.0.7->-r requirements.txt (line 24)) (3.16.1)\n",
      "Requirement already satisfied: Pillow in /system/conda/miniconda3/envs/cloudspace/lib/python3.10/site-packages (from controlnet_aux==0.0.7->-r requirements.txt (line 24)) (11.0.0)\n",
      "Requirement already satisfied: ninja in /system/conda/miniconda3/envs/cloudspace/lib/python3.10/site-packages (from optimum-quanto==0.2.4->-r requirements.txt (line 30)) (1.11.1.2)\n",
      "Requirement already satisfied: typing-extensions>=4.8.0 in /system/conda/miniconda3/envs/cloudspace/lib/python3.10/site-packages (from torch->-r requirements.txt (line 1)) (4.12.2)\n",
      "Requirement already satisfied: networkx in /system/conda/miniconda3/envs/cloudspace/lib/python3.10/site-packages (from torch->-r requirements.txt (line 1)) (3.4.2)\n",
      "Requirement already satisfied: jinja2 in /system/conda/miniconda3/envs/cloudspace/lib/python3.10/site-packages (from torch->-r requirements.txt (line 1)) (3.1.4)\n",
      "Requirement already satisfied: fsspec in /system/conda/miniconda3/envs/cloudspace/lib/python3.10/site-packages (from torch->-r requirements.txt (line 1)) (2024.10.0)\n",
      "Requirement already satisfied: nvidia-cuda-nvrtc-cu12==12.4.127 in /system/conda/miniconda3/envs/cloudspace/lib/python3.10/site-packages (from torch->-r requirements.txt (line 1)) (12.4.127)\n",
      "Requirement already satisfied: nvidia-cuda-runtime-cu12==12.4.127 in /system/conda/miniconda3/envs/cloudspace/lib/python3.10/site-packages (from torch->-r requirements.txt (line 1)) (12.4.127)\n",
      "Requirement already satisfied: nvidia-cuda-cupti-cu12==12.4.127 in /system/conda/miniconda3/envs/cloudspace/lib/python3.10/site-packages (from torch->-r requirements.txt (line 1)) (12.4.127)\n",
      "Requirement already satisfied: nvidia-cudnn-cu12==9.1.0.70 in /system/conda/miniconda3/envs/cloudspace/lib/python3.10/site-packages (from torch->-r requirements.txt (line 1)) (9.1.0.70)\n",
      "Requirement already satisfied: nvidia-cublas-cu12==12.4.5.8 in /system/conda/miniconda3/envs/cloudspace/lib/python3.10/site-packages (from torch->-r requirements.txt (line 1)) (12.4.5.8)\n",
      "Requirement already satisfied: nvidia-cufft-cu12==11.2.1.3 in /system/conda/miniconda3/envs/cloudspace/lib/python3.10/site-packages (from torch->-r requirements.txt (line 1)) (11.2.1.3)\n",
      "Requirement already satisfied: nvidia-curand-cu12==10.3.5.147 in /system/conda/miniconda3/envs/cloudspace/lib/python3.10/site-packages (from torch->-r requirements.txt (line 1)) (10.3.5.147)\n",
      "Requirement already satisfied: nvidia-cusolver-cu12==11.6.1.9 in /system/conda/miniconda3/envs/cloudspace/lib/python3.10/site-packages (from torch->-r requirements.txt (line 1)) (11.6.1.9)\n",
      "Requirement already satisfied: nvidia-cusparse-cu12==12.3.1.170 in /system/conda/miniconda3/envs/cloudspace/lib/python3.10/site-packages (from torch->-r requirements.txt (line 1)) (12.3.1.170)\n",
      "Requirement already satisfied: nvidia-nccl-cu12==2.21.5 in /system/conda/miniconda3/envs/cloudspace/lib/python3.10/site-packages (from torch->-r requirements.txt (line 1)) (2.21.5)\n",
      "Requirement already satisfied: nvidia-nvtx-cu12==12.4.127 in /system/conda/miniconda3/envs/cloudspace/lib/python3.10/site-packages (from torch->-r requirements.txt (line 1)) (12.4.127)\n",
      "Requirement already satisfied: nvidia-nvjitlink-cu12==12.4.127 in /system/conda/miniconda3/envs/cloudspace/lib/python3.10/site-packages (from torch->-r requirements.txt (line 1)) (12.4.127)\n",
      "Requirement already satisfied: triton==3.1.0 in /system/conda/miniconda3/envs/cloudspace/lib/python3.10/site-packages (from torch->-r requirements.txt (line 1)) (3.1.0)\n",
      "Requirement already satisfied: sympy==1.13.1 in /system/conda/miniconda3/envs/cloudspace/lib/python3.10/site-packages (from torch->-r requirements.txt (line 1)) (1.13.1)\n",
      "Requirement already satisfied: mpmath<1.4,>=1.1.0 in /system/conda/miniconda3/envs/cloudspace/lib/python3.10/site-packages (from sympy==1.13.1->torch->-r requirements.txt (line 1)) (1.3.0)\n",
      "Requirement already satisfied: regex!=2019.12.17 in /system/conda/miniconda3/envs/cloudspace/lib/python3.10/site-packages (from diffusers==0.32.0.dev0->-r requirements.txt (line 4)) (2024.11.6)\n",
      "Requirement already satisfied: requests in /system/conda/miniconda3/envs/cloudspace/lib/python3.10/site-packages (from diffusers==0.32.0.dev0->-r requirements.txt (line 4)) (2.32.3)\n",
      "Requirement already satisfied: packaging>=20.0 in /system/conda/miniconda3/envs/cloudspace/lib/python3.10/site-packages (from transformers->-r requirements.txt (line 5)) (24.2)\n",
      "Requirement already satisfied: tokenizers<0.22,>=0.21 in /system/conda/miniconda3/envs/cloudspace/lib/python3.10/site-packages (from transformers->-r requirements.txt (line 5)) (0.21.0)\n",
      "Requirement already satisfied: tqdm>=4.27 in /system/conda/miniconda3/envs/cloudspace/lib/python3.10/site-packages (from transformers->-r requirements.txt (line 5)) (4.67.1)\n",
      "Requirement already satisfied: six in /system/conda/miniconda3/envs/cloudspace/lib/python3.10/site-packages (from flatten_json->-r requirements.txt (line 7)) (1.16.0)\n",
      "Requirement already satisfied: absl-py>=0.4 in /system/conda/miniconda3/envs/cloudspace/lib/python3.10/site-packages (from tensorboard->-r requirements.txt (line 10)) (2.1.0)\n",
      "Requirement already satisfied: grpcio>=1.48.2 in /system/conda/miniconda3/envs/cloudspace/lib/python3.10/site-packages (from tensorboard->-r requirements.txt (line 10)) (1.68.0)\n",
      "Requirement already satisfied: google-auth<3,>=1.6.3 in /system/conda/miniconda3/envs/cloudspace/lib/python3.10/site-packages (from tensorboard->-r requirements.txt (line 10)) (2.36.0)\n",
      "Requirement already satisfied: google-auth-oauthlib<2,>=0.5 in /system/conda/miniconda3/envs/cloudspace/lib/python3.10/site-packages (from tensorboard->-r requirements.txt (line 10)) (1.2.1)\n",
      "Requirement already satisfied: markdown>=2.6.8 in /system/conda/miniconda3/envs/cloudspace/lib/python3.10/site-packages (from tensorboard->-r requirements.txt (line 10)) (3.7)\n",
      "Requirement already satisfied: protobuf<4.24,>=3.19.6 in /system/conda/miniconda3/envs/cloudspace/lib/python3.10/site-packages (from tensorboard->-r requirements.txt (line 10)) (4.23.4)\n",
      "Requirement already satisfied: setuptools>=41.0.0 in /system/conda/miniconda3/envs/cloudspace/lib/python3.10/site-packages (from tensorboard->-r requirements.txt (line 10)) (75.1.0)\n",
      "Requirement already satisfied: tensorboard-data-server<0.8.0,>=0.7.0 in /system/conda/miniconda3/envs/cloudspace/lib/python3.10/site-packages (from tensorboard->-r requirements.txt (line 10)) (0.7.2)\n",
      "Requirement already satisfied: werkzeug>=1.0.1 in /system/conda/miniconda3/envs/cloudspace/lib/python3.10/site-packages (from tensorboard->-r requirements.txt (line 10)) (3.1.3)\n",
      "Requirement already satisfied: kornia-rs>=0.1.0 in /system/conda/miniconda3/envs/cloudspace/lib/python3.10/site-packages (from kornia->-r requirements.txt (line 11)) (0.1.7)\n",
      "Requirement already satisfied: PyWavelets>=1.1.1 in /system/conda/miniconda3/envs/cloudspace/lib/python3.10/site-packages (from invisible-watermark->-r requirements.txt (line 12)) (1.8.0)\n",
      "Requirement already satisfied: psutil in /system/conda/miniconda3/envs/cloudspace/lib/python3.10/site-packages (from accelerate->-r requirements.txt (line 14)) (6.1.0)\n",
      "Requirement already satisfied: annotated-types>=0.6.0 in /system/conda/miniconda3/envs/cloudspace/lib/python3.10/site-packages (from pydantic->-r requirements.txt (line 18)) (0.7.0)\n",
      "Requirement already satisfied: pydantic-core==2.27.1 in /system/conda/miniconda3/envs/cloudspace/lib/python3.10/site-packages (from pydantic->-r requirements.txt (line 18)) (2.27.1)\n",
      "Requirement already satisfied: antlr4-python3-runtime==4.9.* in /system/conda/miniconda3/envs/cloudspace/lib/python3.10/site-packages (from omegaconf->-r requirements.txt (line 19)) (4.9.3)\n",
      "Requirement already satisfied: clean-fid in /system/conda/miniconda3/envs/cloudspace/lib/python3.10/site-packages (from k-diffusion->-r requirements.txt (line 20)) (0.1.35)\n",
      "Requirement already satisfied: clip-anytorch in /system/conda/miniconda3/envs/cloudspace/lib/python3.10/site-packages (from k-diffusion->-r requirements.txt (line 20)) (2.6.0)\n",
      "Requirement already satisfied: dctorch in /system/conda/miniconda3/envs/cloudspace/lib/python3.10/site-packages (from k-diffusion->-r requirements.txt (line 20)) (0.1.2)\n",
      "Requirement already satisfied: jsonmerge in /system/conda/miniconda3/envs/cloudspace/lib/python3.10/site-packages (from k-diffusion->-r requirements.txt (line 20)) (1.9.2)\n",
      "Requirement already satisfied: torchdiffeq in /system/conda/miniconda3/envs/cloudspace/lib/python3.10/site-packages (from k-diffusion->-r requirements.txt (line 20)) (0.2.5)\n",
      "Requirement already satisfied: torchsde in /system/conda/miniconda3/envs/cloudspace/lib/python3.10/site-packages (from k-diffusion->-r requirements.txt (line 20)) (0.2.6)\n",
      "Requirement already satisfied: wandb in /system/conda/miniconda3/envs/cloudspace/lib/python3.10/site-packages (from k-diffusion->-r requirements.txt (line 20)) (0.19.0)\n",
      "Requirement already satisfied: ftfy in /system/conda/miniconda3/envs/cloudspace/lib/python3.10/site-packages (from open_clip_torch->-r requirements.txt (line 21)) (6.3.1)\n",
      "Requirement already satisfied: aiofiles<24.0,>=22.0 in /system/conda/miniconda3/envs/cloudspace/lib/python3.10/site-packages (from gradio->-r requirements.txt (line 34)) (23.2.1)\n",
      "Requirement already satisfied: anyio<5.0,>=3.0 in /system/conda/miniconda3/envs/cloudspace/lib/python3.10/site-packages (from gradio->-r requirements.txt (line 34)) (4.6.2.post1)\n",
      "Requirement already satisfied: fastapi<1.0,>=0.115.2 in /system/conda/miniconda3/envs/cloudspace/lib/python3.10/site-packages (from gradio->-r requirements.txt (line 34)) (0.115.5)\n",
      "Requirement already satisfied: ffmpy in /system/conda/miniconda3/envs/cloudspace/lib/python3.10/site-packages (from gradio->-r requirements.txt (line 34)) (0.4.0)\n",
      "Requirement already satisfied: gradio-client==1.5.1 in /system/conda/miniconda3/envs/cloudspace/lib/python3.10/site-packages (from gradio->-r requirements.txt (line 34)) (1.5.1)\n",
      "Requirement already satisfied: httpx>=0.24.1 in /system/conda/miniconda3/envs/cloudspace/lib/python3.10/site-packages (from gradio->-r requirements.txt (line 34)) (0.27.2)\n",
      "Requirement already satisfied: markupsafe~=2.0 in /system/conda/miniconda3/envs/cloudspace/lib/python3.10/site-packages (from gradio->-r requirements.txt (line 34)) (2.1.5)\n",
      "Requirement already satisfied: orjson~=3.0 in /system/conda/miniconda3/envs/cloudspace/lib/python3.10/site-packages (from gradio->-r requirements.txt (line 34)) (3.10.12)\n",
      "Requirement already satisfied: pandas<3.0,>=1.0 in /system/conda/miniconda3/envs/cloudspace/lib/python3.10/site-packages (from gradio->-r requirements.txt (line 34)) (2.1.4)\n",
      "Requirement already satisfied: pydub in /system/conda/miniconda3/envs/cloudspace/lib/python3.10/site-packages (from gradio->-r requirements.txt (line 34)) (0.25.1)\n",
      "Requirement already satisfied: python-multipart>=0.0.18 in /system/conda/miniconda3/envs/cloudspace/lib/python3.10/site-packages (from gradio->-r requirements.txt (line 34)) (0.0.19)\n",
      "Requirement already satisfied: ruff>=0.2.2 in /system/conda/miniconda3/envs/cloudspace/lib/python3.10/site-packages (from gradio->-r requirements.txt (line 34)) (0.8.2)\n",
      "Requirement already satisfied: safehttpx<0.2.0,>=0.1.6 in /system/conda/miniconda3/envs/cloudspace/lib/python3.10/site-packages (from gradio->-r requirements.txt (line 34)) (0.1.6)\n",
      "Requirement already satisfied: semantic-version~=2.0 in /system/conda/miniconda3/envs/cloudspace/lib/python3.10/site-packages (from gradio->-r requirements.txt (line 34)) (2.10.0)\n",
      "Requirement already satisfied: starlette<1.0,>=0.40.0 in /system/conda/miniconda3/envs/cloudspace/lib/python3.10/site-packages (from gradio->-r requirements.txt (line 34)) (0.41.3)\n",
      "Requirement already satisfied: tomlkit<0.14.0,>=0.12.0 in /system/conda/miniconda3/envs/cloudspace/lib/python3.10/site-packages (from gradio->-r requirements.txt (line 34)) (0.13.2)\n",
      "Requirement already satisfied: typer<1.0,>=0.12 in /system/conda/miniconda3/envs/cloudspace/lib/python3.10/site-packages (from gradio->-r requirements.txt (line 34)) (0.15.1)\n",
      "Requirement already satisfied: uvicorn>=0.14.0 in /system/conda/miniconda3/envs/cloudspace/lib/python3.10/site-packages (from gradio->-r requirements.txt (line 34)) (0.32.1)\n",
      "Requirement already satisfied: websockets<15.0,>=10.0 in /system/conda/miniconda3/envs/cloudspace/lib/python3.10/site-packages (from gradio-client==1.5.1->gradio->-r requirements.txt (line 34)) (14.1)\n",
      "Requirement already satisfied: text-unidecode>=1.3 in /system/conda/miniconda3/envs/cloudspace/lib/python3.10/site-packages (from python-slugify->-r requirements.txt (line 35)) (1.3)\n",
      "Requirement already satisfied: idna>=2.8 in /system/conda/miniconda3/envs/cloudspace/lib/python3.10/site-packages (from anyio<5.0,>=3.0->gradio->-r requirements.txt (line 34)) (3.10)\n",
      "Requirement already satisfied: sniffio>=1.1 in /system/conda/miniconda3/envs/cloudspace/lib/python3.10/site-packages (from anyio<5.0,>=3.0->gradio->-r requirements.txt (line 34)) (1.3.1)\n",
      "Requirement already satisfied: exceptiongroup>=1.0.2 in /system/conda/miniconda3/envs/cloudspace/lib/python3.10/site-packages (from anyio<5.0,>=3.0->gradio->-r requirements.txt (line 34)) (1.2.2)\n",
      "Requirement already satisfied: cachetools<6.0,>=2.0.0 in /system/conda/miniconda3/envs/cloudspace/lib/python3.10/site-packages (from google-auth<3,>=1.6.3->tensorboard->-r requirements.txt (line 10)) (5.5.0)\n",
      "Requirement already satisfied: pyasn1-modules>=0.2.1 in /system/conda/miniconda3/envs/cloudspace/lib/python3.10/site-packages (from google-auth<3,>=1.6.3->tensorboard->-r requirements.txt (line 10)) (0.4.1)\n",
      "Requirement already satisfied: rsa<5,>=3.1.4 in /system/conda/miniconda3/envs/cloudspace/lib/python3.10/site-packages (from google-auth<3,>=1.6.3->tensorboard->-r requirements.txt (line 10)) (4.9)\n",
      "Requirement already satisfied: requests-oauthlib>=0.7.0 in /system/conda/miniconda3/envs/cloudspace/lib/python3.10/site-packages (from google-auth-oauthlib<2,>=0.5->tensorboard->-r requirements.txt (line 10)) (2.0.0)\n",
      "Requirement already satisfied: certifi in /system/conda/miniconda3/envs/cloudspace/lib/python3.10/site-packages (from httpx>=0.24.1->gradio->-r requirements.txt (line 34)) (2024.8.30)\n",
      "Requirement already satisfied: httpcore==1.* in /system/conda/miniconda3/envs/cloudspace/lib/python3.10/site-packages (from httpx>=0.24.1->gradio->-r requirements.txt (line 34)) (1.0.7)\n",
      "Requirement already satisfied: h11<0.15,>=0.13 in /system/conda/miniconda3/envs/cloudspace/lib/python3.10/site-packages (from httpcore==1.*->httpx>=0.24.1->gradio->-r requirements.txt (line 34)) (0.14.0)\n",
      "Requirement already satisfied: python-dateutil>=2.8.2 in /system/conda/miniconda3/envs/cloudspace/lib/python3.10/site-packages (from pandas<3.0,>=1.0->gradio->-r requirements.txt (line 34)) (2.9.0.post0)\n",
      "Requirement already satisfied: pytz>=2020.1 in /system/conda/miniconda3/envs/cloudspace/lib/python3.10/site-packages (from pandas<3.0,>=1.0->gradio->-r requirements.txt (line 34)) (2024.2)\n",
      "Requirement already satisfied: tzdata>=2022.1 in /system/conda/miniconda3/envs/cloudspace/lib/python3.10/site-packages (from pandas<3.0,>=1.0->gradio->-r requirements.txt (line 34)) (2024.2)\n",
      "Requirement already satisfied: charset-normalizer<4,>=2 in /system/conda/miniconda3/envs/cloudspace/lib/python3.10/site-packages (from requests->diffusers==0.32.0.dev0->-r requirements.txt (line 4)) (3.4.0)\n",
      "Requirement already satisfied: urllib3<3,>=1.21.1 in /system/conda/miniconda3/envs/cloudspace/lib/python3.10/site-packages (from requests->diffusers==0.32.0.dev0->-r requirements.txt (line 4)) (2.2.3)\n",
      "Requirement already satisfied: imageio>=2.33 in /system/conda/miniconda3/envs/cloudspace/lib/python3.10/site-packages (from scikit-image>=0.21.0->albumentations==1.4.15->-r requirements.txt (line 16)) (2.36.1)\n",
      "Requirement already satisfied: tifffile>=2022.8.12 in /system/conda/miniconda3/envs/cloudspace/lib/python3.10/site-packages (from scikit-image>=0.21.0->albumentations==1.4.15->-r requirements.txt (line 16)) (2024.9.20)\n",
      "Requirement already satisfied: lazy-loader>=0.4 in /system/conda/miniconda3/envs/cloudspace/lib/python3.10/site-packages (from scikit-image>=0.21.0->albumentations==1.4.15->-r requirements.txt (line 16)) (0.4)\n",
      "Requirement already satisfied: click>=8.0.0 in /system/conda/miniconda3/envs/cloudspace/lib/python3.10/site-packages (from typer<1.0,>=0.12->gradio->-r requirements.txt (line 34)) (8.1.7)\n",
      "Requirement already satisfied: shellingham>=1.3.0 in /system/conda/miniconda3/envs/cloudspace/lib/python3.10/site-packages (from typer<1.0,>=0.12->gradio->-r requirements.txt (line 34)) (1.5.4)\n",
      "Requirement already satisfied: rich>=10.11.0 in /system/conda/miniconda3/envs/cloudspace/lib/python3.10/site-packages (from typer<1.0,>=0.12->gradio->-r requirements.txt (line 34)) (13.9.4)\n",
      "Requirement already satisfied: wcwidth in /system/conda/miniconda3/envs/cloudspace/lib/python3.10/site-packages (from ftfy->open_clip_torch->-r requirements.txt (line 21)) (0.2.13)\n",
      "Requirement already satisfied: zipp>=3.20 in /system/conda/miniconda3/envs/cloudspace/lib/python3.10/site-packages (from importlib-metadata->controlnet_aux==0.0.7->-r requirements.txt (line 24)) (3.21.0)\n",
      "Requirement already satisfied: jsonschema>2.4.0 in /system/conda/miniconda3/envs/cloudspace/lib/python3.10/site-packages (from jsonmerge->k-diffusion->-r requirements.txt (line 20)) (4.23.0)\n",
      "Requirement already satisfied: trampoline>=0.1.2 in /system/conda/miniconda3/envs/cloudspace/lib/python3.10/site-packages (from torchsde->k-diffusion->-r requirements.txt (line 20)) (0.1.2)\n",
      "Requirement already satisfied: docker-pycreds>=0.4.0 in /system/conda/miniconda3/envs/cloudspace/lib/python3.10/site-packages (from wandb->k-diffusion->-r requirements.txt (line 20)) (0.4.0)\n",
      "Requirement already satisfied: gitpython!=3.1.29,>=1.0.0 in /system/conda/miniconda3/envs/cloudspace/lib/python3.10/site-packages (from wandb->k-diffusion->-r requirements.txt (line 20)) (3.1.43)\n",
      "Requirement already satisfied: platformdirs in /system/conda/miniconda3/envs/cloudspace/lib/python3.10/site-packages (from wandb->k-diffusion->-r requirements.txt (line 20)) (4.3.6)\n",
      "Requirement already satisfied: sentry-sdk>=2.0.0 in /system/conda/miniconda3/envs/cloudspace/lib/python3.10/site-packages (from wandb->k-diffusion->-r requirements.txt (line 20)) (2.19.2)\n",
      "Requirement already satisfied: setproctitle in /system/conda/miniconda3/envs/cloudspace/lib/python3.10/site-packages (from wandb->k-diffusion->-r requirements.txt (line 20)) (1.3.4)\n",
      "Requirement already satisfied: gitdb<5,>=4.0.1 in /system/conda/miniconda3/envs/cloudspace/lib/python3.10/site-packages (from gitpython!=3.1.29,>=1.0.0->wandb->k-diffusion->-r requirements.txt (line 20)) (4.0.11)\n",
      "Requirement already satisfied: attrs>=22.2.0 in /system/conda/miniconda3/envs/cloudspace/lib/python3.10/site-packages (from jsonschema>2.4.0->jsonmerge->k-diffusion->-r requirements.txt (line 20)) (24.2.0)\n",
      "Requirement already satisfied: jsonschema-specifications>=2023.03.6 in /system/conda/miniconda3/envs/cloudspace/lib/python3.10/site-packages (from jsonschema>2.4.0->jsonmerge->k-diffusion->-r requirements.txt (line 20)) (2024.10.1)\n",
      "Requirement already satisfied: referencing>=0.28.4 in /system/conda/miniconda3/envs/cloudspace/lib/python3.10/site-packages (from jsonschema>2.4.0->jsonmerge->k-diffusion->-r requirements.txt (line 20)) (0.35.1)\n",
      "Requirement already satisfied: rpds-py>=0.7.1 in /system/conda/miniconda3/envs/cloudspace/lib/python3.10/site-packages (from jsonschema>2.4.0->jsonmerge->k-diffusion->-r requirements.txt (line 20)) (0.21.0)\n",
      "Requirement already satisfied: pyasn1<0.7.0,>=0.4.6 in /system/conda/miniconda3/envs/cloudspace/lib/python3.10/site-packages (from pyasn1-modules>=0.2.1->google-auth<3,>=1.6.3->tensorboard->-r requirements.txt (line 10)) (0.6.1)\n",
      "Requirement already satisfied: oauthlib>=3.0.0 in /system/conda/miniconda3/envs/cloudspace/lib/python3.10/site-packages (from requests-oauthlib>=0.7.0->google-auth-oauthlib<2,>=0.5->tensorboard->-r requirements.txt (line 10)) (3.2.2)\n",
      "Requirement already satisfied: markdown-it-py>=2.2.0 in /system/conda/miniconda3/envs/cloudspace/lib/python3.10/site-packages (from rich>=10.11.0->typer<1.0,>=0.12->gradio->-r requirements.txt (line 34)) (3.0.0)\n",
      "Requirement already satisfied: pygments<3.0.0,>=2.13.0 in /system/conda/miniconda3/envs/cloudspace/lib/python3.10/site-packages (from rich>=10.11.0->typer<1.0,>=0.12->gradio->-r requirements.txt (line 34)) (2.18.0)\n",
      "Requirement already satisfied: smmap<6,>=3.0.1 in /system/conda/miniconda3/envs/cloudspace/lib/python3.10/site-packages (from gitdb<5,>=4.0.1->gitpython!=3.1.29,>=1.0.0->wandb->k-diffusion->-r requirements.txt (line 20)) (5.0.1)\n",
      "Requirement already satisfied: mdurl~=0.1 in /system/conda/miniconda3/envs/cloudspace/lib/python3.10/site-packages (from markdown-it-py>=2.2.0->rich>=10.11.0->typer<1.0,>=0.12->gradio->-r requirements.txt (line 34)) (0.1.2)\n"
     ]
    }
   ],
   "source": [
    "!cd ai-toolkit && git submodule update --init --recursive && pip install -r requirements.txt"
   ]
  },
  {
   "cell_type": "code",
   "execution_count": 1,
   "id": "56101ea2-4d88-4e7b-909c-c1b1a1cc98b7",
   "metadata": {},
   "outputs": [
    {
     "name": "stdout",
     "output_type": "stream",
     "text": [
      "HF_TOKEN environment variable has been set.\n"
     ]
    }
   ],
   "source": [
    "import getpass\n",
    "import os\n",
    "\n",
    "# Prompt for the token\n",
    "hf_token = getpass.getpass('Enter your HF access token and press enter: ')\n",
    "\n",
    "# Set the environment variable\n",
    "os.environ['HF_TOKEN'] = hf_token\n",
    "\n",
    "print(\"HF_TOKEN environment variable has been set.\")"
   ]
  },
  {
   "cell_type": "code",
   "execution_count": 5,
   "id": "d33336fb-4a8d-45f6-a5cc-36524668a710",
   "metadata": {},
   "outputs": [],
   "source": [
    "import os\n",
    "import sys\n",
    "sys.path.append('/teamspace/studios/this_studio/ai-toolkit')\n",
    "from toolkit.job import run_job\n",
    "from collections import OrderedDict\n",
    "from PIL import Image\n",
    "import os"
   ]
  },
  {
   "cell_type": "code",
   "execution_count": 7,
   "id": "9e699ba3-9e81-4cc8-acfa-9e7d745698c1",
   "metadata": {},
   "outputs": [],
   "source": [
    "from collections import OrderedDict\n",
    "\n",
    "job_to_run = OrderedDict([\n",
    "    ('job', 'extension'),\n",
    "    ('config', OrderedDict([\n",
    "        # this name will be the folder and filename name\n",
    "        ('name', 'my_first_flux_lora_v1'),\n",
    "        ('process', [\n",
    "            OrderedDict([\n",
    "                ('type', 'sd_trainer'),\n",
    "                # root folder to save training sessions/samples/weights\n",
    "                ('training_folder', '/teamspace/studios/this_studio/content/output'),\n",
    "                # uncomment to see performance stats in the terminal every N steps\n",
    "                #('performance_log_every', 1000),\n",
    "                ('device', 'cuda:0'),\n",
    "                # if a trigger word is specified, it will be added to captions of training data if it does not already exist\n",
    "                # alternatively, in your captions you can add [trigger] and it will be replaced with the trigger word\n",
    "                # ('trigger_word', 'image'),\n",
    "                ('network', OrderedDict([\n",
    "                    ('type', 'lora'),\n",
    "                    ('linear', 16),\n",
    "                    ('linear_alpha', 16)\n",
    "                ])),\n",
    "                ('save', OrderedDict([\n",
    "                    ('dtype', 'float16'),  # precision to save\n",
    "                    ('save_every', 250),  # save every this many steps\n",
    "                    ('max_step_saves_to_keep', 4)  # how many intermittent saves to keep\n",
    "                ])),\n",
    "                ('datasets', [\n",
    "                    # datasets are a folder of images. captions need to be txt files with the same name as the image\n",
    "                    # for instance image2.jpg and image2.txt. Only jpg, jpeg, and png are supported currently\n",
    "                    # images will automatically be resized and bucketed into the resolution specified\n",
    "                    OrderedDict([\n",
    "                        ('folder_path', '/teamspace/studios/this_studio/content/dataset'),\n",
    "                        ('caption_ext', 'txt'),\n",
    "                        ('caption_dropout_rate', 0.05),  # will drop out the caption 5% of time\n",
    "                        ('shuffle_tokens', False),  # shuffle caption order, split by commas\n",
    "                        ('cache_latents_to_disk', True),  # leave this true unless you know what you're doing\n",
    "                        ('resolution', [512, 768, 1024])  # flux enjoys multiple resolutions\n",
    "                    ])\n",
    "                ]),\n",
    "                ('train', OrderedDict([\n",
    "                    ('batch_size', 1),\n",
    "                    ('steps', 2000),  # total number of steps to train 500 - 4000 is a good range\n",
    "                    ('gradient_accumulation_steps', 1),\n",
    "                    ('train_unet', True),\n",
    "                    ('train_text_encoder', False),  # probably won't work with flux\n",
    "                    ('content_or_style', 'content'),  # content, style, balanced\n",
    "                    ('gradient_checkpointing', True),  # need the on unless you have a ton of vram\n",
    "                    ('noise_scheduler', 'flowmatch'),  # for training only\n",
    "                    ('optimizer', 'adamw8bit'),\n",
    "                    ('lr', 1e-4),\n",
    "\n",
    "                    # uncomment this to skip the pre training sample\n",
    "                    # ('skip_first_sample', True),\n",
    "\n",
    "                    # uncomment to completely disable sampling\n",
    "                    # ('disable_sampling', True),\n",
    "\n",
    "                    # uncomment to use new vell curved weighting. Experimental but may produce better results\n",
    "                    # ('linear_timesteps', True),\n",
    "\n",
    "                    # ema will smooth out learning, but could slow it down. Recommended to leave on.\n",
    "                    ('ema_config', OrderedDict([\n",
    "                        ('use_ema', True),\n",
    "                        ('ema_decay', 0.99)\n",
    "                    ])),\n",
    "\n",
    "                    # will probably need this if gpu supports it for flux, other dtypes may not work correctly\n",
    "                    ('dtype', 'bf16')\n",
    "                ])),\n",
    "                ('model', OrderedDict([\n",
    "                    # huggingface model name or path\n",
    "                    ('name_or_path', 'black-forest-labs/FLUX.1-dev'),\n",
    "                    ('is_flux', True),\n",
    "                    ('quantize', True),  # run 8bit mixed precision\n",
    "                    #('low_vram', True),  # uncomment this if the GPU is connected to your monitors. It will use less vram to quantize, but is slower.\n",
    "                ])),\n",
    "                ('sample', OrderedDict([\n",
    "                    ('sampler', 'flowmatch'),  # must match train.noise_scheduler\n",
    "                    ('sample_every', 250),  # sample every this many steps\n",
    "                    ('width', 1024),\n",
    "                    ('height', 1024),\n",
    "                    ('prompts', [\n",
    "                        # you can add [trigger] to the prompts here and it will be replaced with the trigger word\n",
    "                        #'[trigger] holding a sign that says \\'I LOVE PROMPTS!\\'',\n",
    "                        'woman with red hair, playing chess at the park, bomb going off in the background',\n",
    "                        'a woman holding a coffee cup, in a beanie, sitting at a cafe',\n",
    "                        'a horse is a DJ at a night club, fish eye lens, smoke machine, lazer lights, holding a martini',\n",
    "                        'a man showing off his cool new t shirt at the beach, a shark is jumping out of the water in the background',\n",
    "                        'a bear building a log cabin in the snow covered mountains',\n",
    "                        'woman playing the guitar, on stage, singing a song, laser lights, punk rocker',\n",
    "                        'hipster man with a beard, building a chair, in a wood shop',\n",
    "                        'photo of a man, white background, medium shot, modeling clothing, studio lighting, white backdrop',\n",
    "                        'a man holding a sign that says, \\'this is a sign\\'',\n",
    "                        'a bulldog, in a post apocalyptic world, with a shotgun, in a leather jacket, in a desert, with a motorcycle'\n",
    "                    ]),\n",
    "                    ('neg', ''),  # not used on flux\n",
    "                    ('seed', 42),\n",
    "                    ('walk_seed', True),\n",
    "                    ('guidance_scale', 4),\n",
    "                    ('sample_steps', 20)\n",
    "                ]))\n",
    "            ])\n",
    "        ])\n",
    "    ])),\n",
    "    # you can add any additional meta info here. [name] is replaced with config name at top\n",
    "    ('meta', OrderedDict([\n",
    "        ('name', '[name]'),\n",
    "        ('version', '1.0')\n",
    "    ]))\n",
    "])\n"
   ]
  },
  {
   "cell_type": "code",
   "execution_count": 8,
   "id": "9dd48be1",
   "metadata": {},
   "outputs": [
    {
     "name": "stderr",
     "output_type": "stream",
     "text": [
      "The cache for model files in Transformers v4.22.0 has been updated. Migrating your old cache. This is a one-time only operation. You can interrupt this and resume the migration later on by calling `transformers.utils.move_cache()`.\n"
     ]
    },
    {
     "data": {
      "application/vnd.jupyter.widget-view+json": {
       "model_id": "6841850552e242b885ce12f1e9dca3d3",
       "version_major": 2,
       "version_minor": 0
      },
      "text/plain": [
       "0it [00:00, ?it/s]"
      ]
     },
     "metadata": {},
     "output_type": "display_data"
    },
    {
     "name": "stderr",
     "output_type": "stream",
     "text": [
      "/home/zeus/miniconda3/envs/cloudspace/lib/python3.10/site-packages/albumentations/__init__.py:13: UserWarning: A new version of Albumentations is available: 1.4.22 (you have 1.4.15). Upgrade using: pip install -U albumentations. To disable automatic update checks, set the environment variable NO_ALBUMENTATIONS_UPDATE to 1.\n",
      "  check_for_updates()\n"
     ]
    },
    {
     "name": "stdout",
     "output_type": "stream",
     "text": [
      "{\n",
      "    \"type\": \"sd_trainer\",\n",
      "    \"training_folder\": \"/teamspace/studios/this_studio/content/output\",\n",
      "    \"device\": \"cuda:0\",\n",
      "    \"network\": {\n",
      "        \"type\": \"lora\",\n",
      "        \"linear\": 16,\n",
      "        \"linear_alpha\": 16\n",
      "    },\n",
      "    \"save\": {\n",
      "        \"dtype\": \"float16\",\n",
      "        \"save_every\": 250,\n",
      "        \"max_step_saves_to_keep\": 4\n",
      "    },\n",
      "    \"datasets\": [\n",
      "        {\n",
      "            \"folder_path\": \"/teamspace/studios/this_studio/content/dataset\",\n",
      "            \"caption_ext\": \"txt\",\n",
      "            \"caption_dropout_rate\": 0.05,\n",
      "            \"shuffle_tokens\": false,\n",
      "            \"cache_latents_to_disk\": true,\n",
      "            \"resolution\": [\n",
      "                512,\n",
      "                768,\n",
      "                1024\n",
      "            ]\n",
      "        }\n",
      "    ],\n",
      "    \"train\": {\n",
      "        \"batch_size\": 1,\n",
      "        \"steps\": 2000,\n",
      "        \"gradient_accumulation_steps\": 1,\n",
      "        \"train_unet\": true,\n",
      "        \"train_text_encoder\": false,\n",
      "        \"content_or_style\": \"content\",\n",
      "        \"gradient_checkpointing\": true,\n",
      "        \"noise_scheduler\": \"flowmatch\",\n",
      "        \"optimizer\": \"adamw8bit\",\n",
      "        \"lr\": 0.0001,\n",
      "        \"ema_config\": {\n",
      "            \"use_ema\": true,\n",
      "            \"ema_decay\": 0.99\n",
      "        },\n",
      "        \"dtype\": \"bf16\"\n",
      "    },\n",
      "    \"model\": {\n",
      "        \"name_or_path\": \"black-forest-labs/FLUX.1-dev\",\n",
      "        \"is_flux\": true,\n",
      "        \"quantize\": true\n",
      "    },\n",
      "    \"sample\": {\n",
      "        \"sampler\": \"flowmatch\",\n",
      "        \"sample_every\": 250,\n",
      "        \"width\": 1024,\n",
      "        \"height\": 1024,\n",
      "        \"prompts\": [\n",
      "            \"woman with red hair, playing chess at the park, bomb going off in the background\",\n",
      "            \"a woman holding a coffee cup, in a beanie, sitting at a cafe\",\n",
      "            \"a horse is a DJ at a night club, fish eye lens, smoke machine, lazer lights, holding a martini\",\n",
      "            \"a man showing off his cool new t shirt at the beach, a shark is jumping out of the water in the background\",\n",
      "            \"a bear building a log cabin in the snow covered mountains\",\n",
      "            \"woman playing the guitar, on stage, singing a song, laser lights, punk rocker\",\n",
      "            \"hipster man with a beard, building a chair, in a wood shop\",\n",
      "            \"photo of a man, white background, medium shot, modeling clothing, studio lighting, white backdrop\",\n",
      "            \"a man holding a sign that says, 'this is a sign'\",\n",
      "            \"a bulldog, in a post apocalyptic world, with a shotgun, in a leather jacket, in a desert, with a motorcycle\"\n",
      "        ],\n",
      "        \"neg\": \"\",\n",
      "        \"seed\": 42,\n",
      "        \"walk_seed\": true,\n",
      "        \"guidance_scale\": 4,\n",
      "        \"sample_steps\": 20\n",
      "    }\n",
      "}\n",
      "Using EMA\n",
      "\n",
      "#############################################\n",
      "# Running job: my_first_flux_lora_v1\n",
      "#############################################\n",
      "\n",
      "\n",
      "Running  1 process\n",
      "Loading Flux model\n",
      "Loading transformer\n"
     ]
    },
    {
     "name": "stderr",
     "output_type": "stream",
     "text": [
      "/home/zeus/miniconda3/envs/cloudspace/lib/python3.10/site-packages/controlnet_aux/mediapipe_face/mediapipe_face_common.py:7: UserWarning: The module 'mediapipe' is not installed. The package will have limited functionality. Please install it using the command: pip install 'mediapipe'\n",
      "  warnings.warn(\n",
      "/home/zeus/miniconda3/envs/cloudspace/lib/python3.10/site-packages/timm/models/layers/__init__.py:48: FutureWarning: Importing from timm.models.layers is deprecated, please import via timm.layers\n",
      "  warnings.warn(f\"Importing from {__name__} is deprecated, please import via timm.layers\", FutureWarning)\n",
      "/home/zeus/miniconda3/envs/cloudspace/lib/python3.10/site-packages/timm/models/registry.py:4: FutureWarning: Importing from timm.models.registry is deprecated, please import via timm.models\n",
      "  warnings.warn(f\"Importing from {__name__} is deprecated, please import via timm.models\", FutureWarning)\n",
      "/home/zeus/miniconda3/envs/cloudspace/lib/python3.10/site-packages/controlnet_aux/segment_anything/modeling/tiny_vit_sam.py:654: UserWarning: Overwriting tiny_vit_5m_224 in registry with controlnet_aux.segment_anything.modeling.tiny_vit_sam.tiny_vit_5m_224. This is because the name being registered conflicts with an existing name. Please check if this is not expected.\n",
      "  return register_model(fn_wrapper)\n",
      "/home/zeus/miniconda3/envs/cloudspace/lib/python3.10/site-packages/controlnet_aux/segment_anything/modeling/tiny_vit_sam.py:654: UserWarning: Overwriting tiny_vit_11m_224 in registry with controlnet_aux.segment_anything.modeling.tiny_vit_sam.tiny_vit_11m_224. This is because the name being registered conflicts with an existing name. Please check if this is not expected.\n",
      "  return register_model(fn_wrapper)\n",
      "/home/zeus/miniconda3/envs/cloudspace/lib/python3.10/site-packages/controlnet_aux/segment_anything/modeling/tiny_vit_sam.py:654: UserWarning: Overwriting tiny_vit_21m_224 in registry with controlnet_aux.segment_anything.modeling.tiny_vit_sam.tiny_vit_21m_224. This is because the name being registered conflicts with an existing name. Please check if this is not expected.\n",
      "  return register_model(fn_wrapper)\n",
      "/home/zeus/miniconda3/envs/cloudspace/lib/python3.10/site-packages/controlnet_aux/segment_anything/modeling/tiny_vit_sam.py:654: UserWarning: Overwriting tiny_vit_21m_384 in registry with controlnet_aux.segment_anything.modeling.tiny_vit_sam.tiny_vit_21m_384. This is because the name being registered conflicts with an existing name. Please check if this is not expected.\n",
      "  return register_model(fn_wrapper)\n",
      "/home/zeus/miniconda3/envs/cloudspace/lib/python3.10/site-packages/controlnet_aux/segment_anything/modeling/tiny_vit_sam.py:654: UserWarning: Overwriting tiny_vit_21m_512 in registry with controlnet_aux.segment_anything.modeling.tiny_vit_sam.tiny_vit_21m_512. This is because the name being registered conflicts with an existing name. Please check if this is not expected.\n",
      "  return register_model(fn_wrapper)\n",
      "/teamspace/studios/this_studio/ai-toolkit/extensions_built_in/sd_trainer/SDTrainer.py:61: FutureWarning: `torch.cuda.amp.GradScaler(args...)` is deprecated. Please use `torch.amp.GradScaler('cuda', args...)` instead.\n",
      "  self.scaler = torch.cuda.amp.GradScaler()\n"
     ]
    },
    {
     "data": {
      "application/vnd.jupyter.widget-view+json": {
       "model_id": "7472f05fbed5445f98be7e4fbb19d7a5",
       "version_major": 2,
       "version_minor": 0
      },
      "text/plain": [
       "transformer/config.json:   0%|          | 0.00/378 [00:00<?, ?B/s]"
      ]
     },
     "metadata": {},
     "output_type": "display_data"
    },
    {
     "data": {
      "application/vnd.jupyter.widget-view+json": {
       "model_id": "531c5c47380546348368ced095e2c70b",
       "version_major": 2,
       "version_minor": 0
      },
      "text/plain": [
       "(…)ion_pytorch_model.safetensors.index.json:   0%|          | 0.00/121k [00:00<?, ?B/s]"
      ]
     },
     "metadata": {},
     "output_type": "display_data"
    },
    {
     "data": {
      "application/vnd.jupyter.widget-view+json": {
       "model_id": "4db2efc5bc734898a801c22253f8dbab",
       "version_major": 2,
       "version_minor": 0
      },
      "text/plain": [
       "Fetching 3 files:   0%|          | 0/3 [00:00<?, ?it/s]"
      ]
     },
     "metadata": {},
     "output_type": "display_data"
    },
    {
     "data": {
      "application/vnd.jupyter.widget-view+json": {
       "model_id": "f398ca95c08c4f3f95f975045f20fda8",
       "version_major": 2,
       "version_minor": 0
      },
      "text/plain": [
       "(…)pytorch_model-00003-of-00003.safetensors:   0%|          | 0.00/3.87G [00:00<?, ?B/s]"
      ]
     },
     "metadata": {},
     "output_type": "display_data"
    },
    {
     "data": {
      "application/vnd.jupyter.widget-view+json": {
       "model_id": "e398e56dfeb44d34b37bac4ec34414c0",
       "version_major": 2,
       "version_minor": 0
      },
      "text/plain": [
       "(…)pytorch_model-00002-of-00003.safetensors:   0%|          | 0.00/9.95G [00:00<?, ?B/s]"
      ]
     },
     "metadata": {},
     "output_type": "display_data"
    },
    {
     "data": {
      "application/vnd.jupyter.widget-view+json": {
       "model_id": "47f360b0d7a64b1d82926338ac51917b",
       "version_major": 2,
       "version_minor": 0
      },
      "text/plain": [
       "(…)pytorch_model-00001-of-00003.safetensors:   0%|          | 0.00/9.98G [00:00<?, ?B/s]"
      ]
     },
     "metadata": {},
     "output_type": "display_data"
    },
    {
     "name": "stdout",
     "output_type": "stream",
     "text": [
      "Quantizing transformer\n"
     ]
    },
    {
     "data": {
      "application/vnd.jupyter.widget-view+json": {
       "model_id": "184e4d6cbbee4b20921dca6358210233",
       "version_major": 2,
       "version_minor": 0
      },
      "text/plain": [
       "scheduler/scheduler_config.json:   0%|          | 0.00/273 [00:00<?, ?B/s]"
      ]
     },
     "metadata": {},
     "output_type": "display_data"
    },
    {
     "name": "stdout",
     "output_type": "stream",
     "text": [
      "Loading vae\n"
     ]
    },
    {
     "data": {
      "application/vnd.jupyter.widget-view+json": {
       "model_id": "ac0d7552f01b4c7da292de55b4429c9e",
       "version_major": 2,
       "version_minor": 0
      },
      "text/plain": [
       "vae/config.json:   0%|          | 0.00/820 [00:00<?, ?B/s]"
      ]
     },
     "metadata": {},
     "output_type": "display_data"
    },
    {
     "data": {
      "application/vnd.jupyter.widget-view+json": {
       "model_id": "735633b0af084a429446be16ab02ebf7",
       "version_major": 2,
       "version_minor": 0
      },
      "text/plain": [
       "diffusion_pytorch_model.safetensors:   0%|          | 0.00/168M [00:00<?, ?B/s]"
      ]
     },
     "metadata": {},
     "output_type": "display_data"
    },
    {
     "name": "stdout",
     "output_type": "stream",
     "text": [
      "Loading t5\n"
     ]
    },
    {
     "data": {
      "application/vnd.jupyter.widget-view+json": {
       "model_id": "2dee865237644ec1ad6717538cb32109",
       "version_major": 2,
       "version_minor": 0
      },
      "text/plain": [
       "tokenizer_2/tokenizer_config.json:   0%|          | 0.00/20.8k [00:00<?, ?B/s]"
      ]
     },
     "metadata": {},
     "output_type": "display_data"
    },
    {
     "data": {
      "application/vnd.jupyter.widget-view+json": {
       "model_id": "3cb3962af71540638c1b078a8800a3be",
       "version_major": 2,
       "version_minor": 0
      },
      "text/plain": [
       "spiece.model:   0%|          | 0.00/792k [00:00<?, ?B/s]"
      ]
     },
     "metadata": {},
     "output_type": "display_data"
    },
    {
     "data": {
      "application/vnd.jupyter.widget-view+json": {
       "model_id": "0e016ceac3d14dfd957f9b8d31747823",
       "version_major": 2,
       "version_minor": 0
      },
      "text/plain": [
       "tokenizer_2/tokenizer.json:   0%|          | 0.00/2.42M [00:00<?, ?B/s]"
      ]
     },
     "metadata": {},
     "output_type": "display_data"
    },
    {
     "data": {
      "application/vnd.jupyter.widget-view+json": {
       "model_id": "cc86dd18b92d4c09b6207f8643ce71b0",
       "version_major": 2,
       "version_minor": 0
      },
      "text/plain": [
       "tokenizer_2/special_tokens_map.json:   0%|          | 0.00/2.54k [00:00<?, ?B/s]"
      ]
     },
     "metadata": {},
     "output_type": "display_data"
    },
    {
     "name": "stderr",
     "output_type": "stream",
     "text": [
      "You set `add_prefix_space`. The tokenizer needs to be converted from the slow tokenizers\n"
     ]
    },
    {
     "data": {
      "application/vnd.jupyter.widget-view+json": {
       "model_id": "1fc45b8696a74ce49129aaa779e496a0",
       "version_major": 2,
       "version_minor": 0
      },
      "text/plain": [
       "text_encoder_2/config.json:   0%|          | 0.00/782 [00:00<?, ?B/s]"
      ]
     },
     "metadata": {},
     "output_type": "display_data"
    },
    {
     "data": {
      "application/vnd.jupyter.widget-view+json": {
       "model_id": "3d00d49ea1f9462f9e0e179129cd6fd7",
       "version_major": 2,
       "version_minor": 0
      },
      "text/plain": [
       "(…)t_encoder_2/model.safetensors.index.json:   0%|          | 0.00/19.9k [00:00<?, ?B/s]"
      ]
     },
     "metadata": {},
     "output_type": "display_data"
    },
    {
     "data": {
      "application/vnd.jupyter.widget-view+json": {
       "model_id": "aacb144b1a6d4b66aa269df5595965f7",
       "version_major": 2,
       "version_minor": 0
      },
      "text/plain": [
       "Downloading shards:   0%|          | 0/2 [00:00<?, ?it/s]"
      ]
     },
     "metadata": {},
     "output_type": "display_data"
    },
    {
     "data": {
      "application/vnd.jupyter.widget-view+json": {
       "model_id": "590d144616db4bac81290c206ae9a23c",
       "version_major": 2,
       "version_minor": 0
      },
      "text/plain": [
       "model-00001-of-00002.safetensors:   0%|          | 0.00/4.99G [00:00<?, ?B/s]"
      ]
     },
     "metadata": {},
     "output_type": "display_data"
    },
    {
     "data": {
      "application/vnd.jupyter.widget-view+json": {
       "model_id": "dc9c09ffb4ee47c0a8a12f8cda3f8dd1",
       "version_major": 2,
       "version_minor": 0
      },
      "text/plain": [
       "model-00002-of-00002.safetensors:   0%|          | 0.00/4.53G [00:00<?, ?B/s]"
      ]
     },
     "metadata": {},
     "output_type": "display_data"
    },
    {
     "data": {
      "application/vnd.jupyter.widget-view+json": {
       "model_id": "4d143af619ed492da07235c1de2e79b5",
       "version_major": 2,
       "version_minor": 0
      },
      "text/plain": [
       "Loading checkpoint shards:   0%|          | 0/2 [00:00<?, ?it/s]"
      ]
     },
     "metadata": {},
     "output_type": "display_data"
    },
    {
     "name": "stdout",
     "output_type": "stream",
     "text": [
      "Quantizing T5\n",
      "Loading clip\n"
     ]
    },
    {
     "data": {
      "application/vnd.jupyter.widget-view+json": {
       "model_id": "085d4850c0ae4bbd9da85526a2e8d703",
       "version_major": 2,
       "version_minor": 0
      },
      "text/plain": [
       "text_encoder/config.json:   0%|          | 0.00/613 [00:00<?, ?B/s]"
      ]
     },
     "metadata": {},
     "output_type": "display_data"
    },
    {
     "data": {
      "application/vnd.jupyter.widget-view+json": {
       "model_id": "8de1193b9fcc4f599c4163e047b446f3",
       "version_major": 2,
       "version_minor": 0
      },
      "text/plain": [
       "model.safetensors:   0%|          | 0.00/246M [00:00<?, ?B/s]"
      ]
     },
     "metadata": {},
     "output_type": "display_data"
    },
    {
     "data": {
      "application/vnd.jupyter.widget-view+json": {
       "model_id": "30ababfcad57492cb01f8fc01f120285",
       "version_major": 2,
       "version_minor": 0
      },
      "text/plain": [
       "tokenizer/tokenizer_config.json:   0%|          | 0.00/705 [00:00<?, ?B/s]"
      ]
     },
     "metadata": {},
     "output_type": "display_data"
    },
    {
     "data": {
      "application/vnd.jupyter.widget-view+json": {
       "model_id": "dc86e9183a914a1d9357c1e9f081731d",
       "version_major": 2,
       "version_minor": 0
      },
      "text/plain": [
       "tokenizer/vocab.json:   0%|          | 0.00/1.06M [00:00<?, ?B/s]"
      ]
     },
     "metadata": {},
     "output_type": "display_data"
    },
    {
     "data": {
      "application/vnd.jupyter.widget-view+json": {
       "model_id": "b82351cb76134e3495b5a1a9ffa92bde",
       "version_major": 2,
       "version_minor": 0
      },
      "text/plain": [
       "tokenizer/merges.txt:   0%|          | 0.00/525k [00:00<?, ?B/s]"
      ]
     },
     "metadata": {},
     "output_type": "display_data"
    },
    {
     "data": {
      "application/vnd.jupyter.widget-view+json": {
       "model_id": "1cb6d082a3e7418f8ffa578c7a27cba6",
       "version_major": 2,
       "version_minor": 0
      },
      "text/plain": [
       "tokenizer/special_tokens_map.json:   0%|          | 0.00/588 [00:00<?, ?B/s]"
      ]
     },
     "metadata": {},
     "output_type": "display_data"
    },
    {
     "name": "stdout",
     "output_type": "stream",
     "text": [
      "making pipe\n",
      "preparing\n",
      "create LoRA network. base dim (rank): 16, alpha: 16\n",
      "neuron dropout: p=None, rank dropout: p=None, module dropout: p=None\n",
      "create LoRA for Text Encoder: 0 modules.\n",
      "create LoRA for U-Net: 494 modules.\n",
      "enable LoRA for U-Net\n",
      "#### IMPORTANT RESUMING FROM /teamspace/studios/this_studio/content/output/my_first_flux_lora_v1/my_first_flux_lora_v1_000000250.safetensors ####\n",
      "Loading from /teamspace/studios/this_studio/content/output/my_first_flux_lora_v1/my_first_flux_lora_v1_000000250.safetensors\n",
      "Missing keys: []\n",
      "Found step 250 in metadata, starting from there\n",
      "Loading optimizer state from /teamspace/studios/this_studio/content/output/my_first_flux_lora_v1/optimizer.pt\n",
      "Updating optimizer LR from params\n",
      "Dataset: /teamspace/studios/this_studio/content/dataset\n",
      "  -  Preprocessing image dimensions\n"
     ]
    },
    {
     "name": "stderr",
     "output_type": "stream",
     "text": [
      "100%|██████████| 25/25 [00:00<00:00, 54613.33it/s]"
     ]
    },
    {
     "name": "stdout",
     "output_type": "stream",
     "text": [
      "  -  Found 25 images\n",
      "Bucket sizes for /teamspace/studios/this_studio/content/dataset:\n",
      "448x576: 23 files\n",
      "576x448: 2 files\n",
      "2 buckets made\n",
      "Caching latents for /teamspace/studios/this_studio/content/dataset\n",
      " - Saving latents to disk\n"
     ]
    },
    {
     "name": "stderr",
     "output_type": "stream",
     "text": [
      "\n",
      "Caching latents to disk: 100%|██████████| 25/25 [00:00<00:00, 33608.21it/s]\n"
     ]
    },
    {
     "name": "stdout",
     "output_type": "stream",
     "text": [
      "Dataset: /teamspace/studios/this_studio/content/dataset\n",
      "  -  Preprocessing image dimensions\n"
     ]
    },
    {
     "name": "stderr",
     "output_type": "stream",
     "text": [
      "100%|██████████| 25/25 [00:00<00:00, 63550.06it/s]"
     ]
    },
    {
     "name": "stdout",
     "output_type": "stream",
     "text": [
      "  -  Found 25 images\n",
      "Bucket sizes for /teamspace/studios/this_studio/content/dataset:\n",
      "640x832: 23 files\n",
      "832x640: 2 files\n",
      "2 buckets made\n",
      "Caching latents for /teamspace/studios/this_studio/content/dataset\n",
      " - Saving latents to disk\n"
     ]
    },
    {
     "name": "stderr",
     "output_type": "stream",
     "text": [
      "\n",
      "Caching latents to disk: 100%|██████████| 25/25 [00:00<00:00, 27991.88it/s]\n"
     ]
    },
    {
     "name": "stdout",
     "output_type": "stream",
     "text": [
      "Dataset: /teamspace/studios/this_studio/content/dataset\n",
      "  -  Preprocessing image dimensions\n"
     ]
    },
    {
     "name": "stderr",
     "output_type": "stream",
     "text": [
      "100%|██████████| 25/25 [00:00<00:00, 57519.25it/s]"
     ]
    },
    {
     "name": "stdout",
     "output_type": "stream",
     "text": [
      "  -  Found 25 images\n",
      "Bucket sizes for /teamspace/studios/this_studio/content/dataset:\n",
      "832x1152: 23 files\n",
      "1152x832: 2 files\n",
      "2 buckets made\n",
      "Caching latents for /teamspace/studios/this_studio/content/dataset\n",
      " - Saving latents to disk\n"
     ]
    },
    {
     "name": "stderr",
     "output_type": "stream",
     "text": [
      "\n",
      "Caching latents to disk: 100%|██████████| 25/25 [00:00<00:00, 27557.84it/s]\n",
      "my_first_flux_lora_v1:  25%|██▍       | 499/2000 [09:10<50:16,  2.01s/it, lr: 1.0e-04 loss: 5.203e-01]  \n",
      "Generating Images:   0%|          | 0/10 [00:00<?, ?it/s]\u001b[A\n",
      "Generating Images:  10%|█         | 1/10 [00:21<03:16, 21.83s/it]\u001b[A\n",
      "Generating Images:  20%|██        | 2/10 [00:43<02:54, 21.78s/it]\u001b[A\n",
      "Generating Images:  30%|███       | 3/10 [01:05<02:32, 21.79s/it]\u001b[A\n",
      "Generating Images:  40%|████      | 4/10 [01:27<02:11, 21.85s/it]\u001b[A\n",
      "Generating Images:  50%|█████     | 5/10 [01:49<01:49, 21.91s/it]\u001b[A\n",
      "Generating Images:  60%|██████    | 6/10 [02:11<01:27, 21.87s/it]\u001b[A\n",
      "Generating Images:  70%|███████   | 7/10 [02:32<01:05, 21.83s/it]\u001b[A\n",
      "Generating Images:  80%|████████  | 8/10 [02:54<00:43, 21.80s/it]\u001b[A\n",
      "Generating Images:  90%|█████████ | 9/10 [03:16<00:21, 21.84s/it]\u001b[A\n",
      "Generating Images: 100%|██████████| 10/10 [03:38<00:00, 21.88s/it]\u001b[A\n",
      "my_first_flux_lora_v1:  25%|██▍       | 499/2000 [09:10<50:16,  2.01s/it, lr: 1.0e-04 loss: 5.203e-01]"
     ]
    },
    {
     "name": "stdout",
     "output_type": "stream",
     "text": [
      "Saving at step 500\n"
     ]
    },
    {
     "name": "stderr",
     "output_type": "stream",
     "text": [
      "my_first_flux_lora_v1:  25%|██▍       | 499/2000 [09:12<50:16,  2.01s/it, lr: 1.0e-04 loss: 5.203e-01]"
     ]
    },
    {
     "name": "stdout",
     "output_type": "stream",
     "text": [
      "Saved to /teamspace/studios/this_studio/content/output/my_first_flux_lora_v1/optimizer.pt\n"
     ]
    },
    {
     "name": "stderr",
     "output_type": "stream",
     "text": [
      "my_first_flux_lora_v1:  37%|███▋      | 749/2000 [18:19<49:15,  2.36s/it, lr: 1.0e-04 loss: 2.629e-01]  \n",
      "Generating Images:   0%|          | 0/10 [00:00<?, ?it/s]\u001b[A\n",
      "Generating Images:  10%|█         | 1/10 [00:21<03:13, 21.45s/it]\u001b[A\n",
      "Generating Images:  20%|██        | 2/10 [00:43<02:52, 21.57s/it]\u001b[A\n",
      "Generating Images:  30%|███       | 3/10 [01:04<02:31, 21.65s/it]\u001b[A\n",
      "Generating Images:  40%|████      | 4/10 [01:26<02:10, 21.76s/it]\u001b[A\n",
      "Generating Images:  50%|█████     | 5/10 [01:48<01:49, 21.82s/it]\u001b[A\n",
      "Generating Images:  60%|██████    | 6/10 [02:10<01:27, 21.81s/it]\u001b[A\n",
      "Generating Images:  70%|███████   | 7/10 [02:32<01:05, 21.81s/it]\u001b[A\n",
      "Generating Images:  80%|████████  | 8/10 [02:54<00:43, 21.85s/it]\u001b[A\n",
      "Generating Images:  90%|█████████ | 9/10 [03:16<00:21, 21.88s/it]\u001b[A\n",
      "Generating Images: 100%|██████████| 10/10 [03:37<00:00, 21.85s/it]\u001b[A\n",
      "my_first_flux_lora_v1:  37%|███▋      | 749/2000 [18:19<49:15,  2.36s/it, lr: 1.0e-04 loss: 2.629e-01]"
     ]
    },
    {
     "name": "stdout",
     "output_type": "stream",
     "text": [
      "Saving at step 750\n"
     ]
    },
    {
     "name": "stderr",
     "output_type": "stream",
     "text": [
      "my_first_flux_lora_v1:  37%|███▋      | 749/2000 [18:21<49:15,  2.36s/it, lr: 1.0e-04 loss: 2.629e-01]"
     ]
    },
    {
     "name": "stdout",
     "output_type": "stream",
     "text": [
      "Saved to /teamspace/studios/this_studio/content/output/my_first_flux_lora_v1/optimizer.pt\n"
     ]
    },
    {
     "name": "stderr",
     "output_type": "stream",
     "text": [
      "my_first_flux_lora_v1:  50%|████▉     | 999/2000 [27:24<34:28,  2.07s/it, lr: 1.0e-04 loss: 2.951e-01]\n",
      "Generating Images:   0%|          | 0/10 [00:00<?, ?it/s]\u001b[A\n",
      "Generating Images:  10%|█         | 1/10 [00:21<03:14, 21.62s/it]\u001b[A\n",
      "Generating Images:  20%|██        | 2/10 [00:43<02:53, 21.71s/it]\u001b[A\n",
      "Generating Images:  30%|███       | 3/10 [01:05<02:32, 21.76s/it]\u001b[A\n",
      "Generating Images:  40%|████      | 4/10 [01:27<02:10, 21.82s/it]\u001b[A\n",
      "Generating Images:  50%|█████     | 5/10 [01:49<01:49, 21.86s/it]\u001b[A\n",
      "Generating Images:  60%|██████    | 6/10 [02:11<01:27, 21.90s/it]\u001b[A\n",
      "Generating Images:  70%|███████   | 7/10 [02:32<01:05, 21.89s/it]\u001b[A\n",
      "Generating Images:  80%|████████  | 8/10 [02:54<00:43, 21.82s/it]\u001b[A\n",
      "Generating Images:  90%|█████████ | 9/10 [03:16<00:21, 21.78s/it]\u001b[A\n",
      "Generating Images: 100%|██████████| 10/10 [03:38<00:00, 21.77s/it]\u001b[A\n",
      "my_first_flux_lora_v1:  50%|████▉     | 999/2000 [27:24<34:28,  2.07s/it, lr: 1.0e-04 loss: 2.951e-01]"
     ]
    },
    {
     "name": "stdout",
     "output_type": "stream",
     "text": [
      "Saving at step 1000\n"
     ]
    },
    {
     "name": "stderr",
     "output_type": "stream",
     "text": [
      "my_first_flux_lora_v1:  50%|████▉     | 999/2000 [27:26<34:28,  2.07s/it, lr: 1.0e-04 loss: 2.951e-01]"
     ]
    },
    {
     "name": "stdout",
     "output_type": "stream",
     "text": [
      "Saved to /teamspace/studios/this_studio/content/output/my_first_flux_lora_v1/optimizer.pt\n"
     ]
    },
    {
     "name": "stderr",
     "output_type": "stream",
     "text": [
      "my_first_flux_lora_v1:  62%|██████▏   | 1249/2000 [36:34<31:51,  2.55s/it, lr: 1.0e-04 loss: 2.872e-01]\n",
      "Generating Images:   0%|          | 0/10 [00:00<?, ?it/s]\u001b[A\n",
      "Generating Images:  10%|█         | 1/10 [00:21<03:13, 21.45s/it]\u001b[A\n",
      "Generating Images:  20%|██        | 2/10 [00:43<02:52, 21.62s/it]\u001b[A\n",
      "Generating Images:  30%|███       | 3/10 [01:05<02:32, 21.76s/it]\u001b[A\n",
      "Generating Images:  40%|████      | 4/10 [01:26<02:10, 21.79s/it]\u001b[A\n",
      "Generating Images:  50%|█████     | 5/10 [01:48<01:48, 21.77s/it]\u001b[A\n",
      "Generating Images:  60%|██████    | 6/10 [02:10<01:27, 21.79s/it]\u001b[A\n",
      "Generating Images:  70%|███████   | 7/10 [02:32<01:05, 21.83s/it]\u001b[A\n",
      "Generating Images:  80%|████████  | 8/10 [02:54<00:43, 21.85s/it]\u001b[A\n",
      "Generating Images:  90%|█████████ | 9/10 [03:16<00:21, 21.82s/it]\u001b[A\n",
      "Generating Images: 100%|██████████| 10/10 [03:37<00:00, 21.80s/it]\u001b[A\n",
      "my_first_flux_lora_v1:  62%|██████▏   | 1249/2000 [36:34<31:51,  2.55s/it, lr: 1.0e-04 loss: 2.872e-01]"
     ]
    },
    {
     "name": "stdout",
     "output_type": "stream",
     "text": [
      "Saving at step 1250\n"
     ]
    },
    {
     "name": "stderr",
     "output_type": "stream",
     "text": [
      "my_first_flux_lora_v1:  62%|██████▏   | 1249/2000 [36:35<31:51,  2.55s/it, lr: 1.0e-04 loss: 2.872e-01]"
     ]
    },
    {
     "name": "stdout",
     "output_type": "stream",
     "text": [
      "Saved to /teamspace/studios/this_studio/content/output/my_first_flux_lora_v1/optimizer.pt\n",
      "Removing old save: /teamspace/studios/this_studio/content/output/my_first_flux_lora_v1/my_first_flux_lora_v1_000000250.safetensors\n"
     ]
    },
    {
     "name": "stderr",
     "output_type": "stream",
     "text": [
      "my_first_flux_lora_v1:  75%|███████▍  | 1499/2000 [45:38<15:38,  1.87s/it, lr: 1.0e-04 loss: 3.305e-01]\n",
      "Generating Images:   0%|          | 0/10 [00:00<?, ?it/s]\u001b[A\n",
      "Generating Images:  10%|█         | 1/10 [00:21<03:13, 21.53s/it]\u001b[A\n",
      "Generating Images:  20%|██        | 2/10 [00:43<02:53, 21.68s/it]\u001b[A\n",
      "Generating Images:  30%|███       | 3/10 [01:05<02:32, 21.79s/it]\u001b[A\n",
      "Generating Images:  40%|████      | 4/10 [01:27<02:10, 21.81s/it]\u001b[A\n",
      "Generating Images:  50%|█████     | 5/10 [01:48<01:48, 21.75s/it]\u001b[A\n",
      "Generating Images:  60%|██████    | 6/10 [02:10<01:26, 21.71s/it]\u001b[A\n",
      "Generating Images:  70%|███████   | 7/10 [02:32<01:05, 21.70s/it]\u001b[A\n",
      "Generating Images:  80%|████████  | 8/10 [02:53<00:43, 21.73s/it]\u001b[A\n",
      "Generating Images:  90%|█████████ | 9/10 [03:15<00:21, 21.82s/it]\u001b[A\n",
      "Generating Images: 100%|██████████| 10/10 [03:37<00:00, 21.82s/it]\u001b[A\n",
      "my_first_flux_lora_v1:  75%|███████▍  | 1499/2000 [45:38<15:38,  1.87s/it, lr: 1.0e-04 loss: 3.305e-01]"
     ]
    },
    {
     "name": "stdout",
     "output_type": "stream",
     "text": [
      "Saving at step 1500\n"
     ]
    },
    {
     "name": "stderr",
     "output_type": "stream",
     "text": [
      "my_first_flux_lora_v1:  75%|███████▍  | 1499/2000 [45:40<15:38,  1.87s/it, lr: 1.0e-04 loss: 3.305e-01]"
     ]
    },
    {
     "name": "stdout",
     "output_type": "stream",
     "text": [
      "Saved to /teamspace/studios/this_studio/content/output/my_first_flux_lora_v1/optimizer.pt\n",
      "Removing old save: /teamspace/studios/this_studio/content/output/my_first_flux_lora_v1/my_first_flux_lora_v1_000000500.safetensors\n"
     ]
    },
    {
     "name": "stderr",
     "output_type": "stream",
     "text": [
      "my_first_flux_lora_v1:  87%|████████▋ | 1749/2000 [54:48<08:26,  2.02s/it, lr: 1.0e-04 loss: 5.210e-01]\n",
      "Generating Images:   0%|          | 0/10 [00:00<?, ?it/s]\u001b[A\n",
      "Generating Images:  10%|█         | 1/10 [00:21<03:14, 21.61s/it]\u001b[A\n",
      "Generating Images:  20%|██        | 2/10 [00:43<02:53, 21.67s/it]\u001b[A\n",
      "Generating Images:  30%|███       | 3/10 [01:05<02:31, 21.71s/it]\u001b[A\n",
      "Generating Images:  40%|████      | 4/10 [01:26<02:10, 21.78s/it]\u001b[A\n",
      "Generating Images:  50%|█████     | 5/10 [01:48<01:49, 21.82s/it]\u001b[A\n",
      "Generating Images:  60%|██████    | 6/10 [02:10<01:27, 21.80s/it]\u001b[A\n",
      "Generating Images:  70%|███████   | 7/10 [02:32<01:05, 21.79s/it]\u001b[A\n",
      "Generating Images:  80%|████████  | 8/10 [02:54<00:43, 21.82s/it]\u001b[A\n",
      "Generating Images:  90%|█████████ | 9/10 [03:16<00:21, 21.86s/it]\u001b[A\n",
      "Generating Images: 100%|██████████| 10/10 [03:37<00:00, 21.78s/it]\u001b[A\n",
      "my_first_flux_lora_v1:  87%|████████▋ | 1749/2000 [54:48<08:26,  2.02s/it, lr: 1.0e-04 loss: 5.210e-01]"
     ]
    },
    {
     "name": "stdout",
     "output_type": "stream",
     "text": [
      "Saving at step 1750\n"
     ]
    },
    {
     "name": "stderr",
     "output_type": "stream",
     "text": [
      "my_first_flux_lora_v1:  87%|████████▋ | 1749/2000 [54:50<08:26,  2.02s/it, lr: 1.0e-04 loss: 5.210e-01]"
     ]
    },
    {
     "name": "stdout",
     "output_type": "stream",
     "text": [
      "Saved to /teamspace/studios/this_studio/content/output/my_first_flux_lora_v1/optimizer.pt\n",
      "Removing old save: /teamspace/studios/this_studio/content/output/my_first_flux_lora_v1/my_first_flux_lora_v1_000000750.safetensors\n"
     ]
    },
    {
     "name": "stderr",
     "output_type": "stream",
     "text": [
      "my_first_flux_lora_v1: 100%|█████████▉| 1999/2000 [1:03:59<00:02,  2.20s/it, lr: 1.0e-04 loss: 2.237e-01]\n",
      "                                                                  \r"
     ]
    },
    {
     "name": "stdout",
     "output_type": "stream",
     "text": [
      "\n",
      "Saved to /teamspace/studios/this_studio/content/output/my_first_flux_lora_v1/optimizer.pt\n",
      "CPU times: user 58min 49s, sys: 34min 48s, total: 1h 33min 38s\n",
      "Wall time: 2h 3min 22s\n"
     ]
    }
   ],
   "source": [
    "%%time\n",
    "run_job(job_to_run)"
   ]
  },
  {
   "cell_type": "code",
   "execution_count": null,
   "id": "6aabac0d-e08c-4728-bc3a-e93df8bfb0e2",
   "metadata": {},
   "outputs": [],
   "source": []
  }
 ],
 "metadata": {
  "kernelspec": {
   "display_name": "Python 3",
   "language": "python",
   "name": "python3"
  },
  "language_info": {
   "codemirror_mode": {
    "name": "ipython",
    "version": 3
   },
   "file_extension": ".py",
   "mimetype": "text/x-python",
   "name": "python",
   "nbconvert_exporter": "python",
   "pygments_lexer": "ipython3",
   "version": "3.10.10"
  }
 },
 "nbformat": 4,
 "nbformat_minor": 5
}
